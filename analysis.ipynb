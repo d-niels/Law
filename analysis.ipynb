{
 "cells": [
  {
   "cell_type": "code",
   "execution_count": 6,
   "id": "initial_id",
   "metadata": {
    "collapsed": true,
    "ExecuteTime": {
     "end_time": "2023-11-24T02:14:14.201909Z",
     "start_time": "2023-11-24T02:14:14.195996Z"
    }
   },
   "outputs": [],
   "source": [
    "from pathlib import Path\n",
    "import numpy as np"
   ]
  },
  {
   "cell_type": "code",
   "execution_count": 4,
   "outputs": [],
   "source": [
    "evaluations = Path('evaluations')"
   ],
   "metadata": {
    "collapsed": false,
    "ExecuteTime": {
     "end_time": "2023-11-24T02:13:42.197165Z",
     "start_time": "2023-11-24T02:13:42.193088Z"
    }
   },
   "id": "9d5812e873f83990"
  },
  {
   "cell_type": "code",
   "execution_count": 5,
   "outputs": [],
   "source": [
    "mle = evaluations / Path('Machine-Learning-Engineer')"
   ],
   "metadata": {
    "collapsed": false,
    "ExecuteTime": {
     "end_time": "2023-11-24T02:13:51.038726Z",
     "start_time": "2023-11-24T02:13:51.033791Z"
    }
   },
   "id": "8470e9bf75759a13"
  },
  {
   "cell_type": "code",
   "execution_count": 13,
   "outputs": [],
   "source": [
    "all_scores = {}"
   ],
   "metadata": {
    "collapsed": false,
    "ExecuteTime": {
     "end_time": "2023-11-24T02:22:10.136919Z",
     "start_time": "2023-11-24T02:22:10.129368Z"
    }
   },
   "id": "9517d6792724a47a"
  },
  {
   "cell_type": "code",
   "execution_count": 25,
   "outputs": [
    {
     "name": "stdout",
     "output_type": "stream",
     "text": [
      "Skipped: evaluations/Machine-Learning-Engineer/Indian/Female/Falguni Pillai.txt\n",
      "Skipped: evaluations/Machine-Learning-Engineer/Indian/Female/Lavanya Fernandes.txt\n",
      "Skipped: evaluations/Machine-Learning-Engineer/White/Male/Connor Ward.txt\n"
     ]
    }
   ],
   "source": [
    "for ethnicity_folder in mle.glob('*'):\n",
    "    ethnicity = ethnicity_folder.stem\n",
    "    all_scores[ethnicity] = {}\n",
    "    for sex_folder in ethnicity_folder.glob('*'):\n",
    "        sex = sex_folder.stem\n",
    "        scores = []\n",
    "        for evaluation in sex_folder.glob('*'):\n",
    "            with open(evaluation, 'r') as f:\n",
    "                lines = f.readlines()\n",
    "            try:\n",
    "                scores.append(int(lines[0][0]))\n",
    "            except ValueError as e:\n",
    "                print(f'Skipped: {evaluation}')\n",
    "        all_scores[ethnicity][sex] = scores"
   ],
   "metadata": {
    "collapsed": false,
    "ExecuteTime": {
     "end_time": "2023-11-24T06:24:56.762743Z",
     "start_time": "2023-11-24T06:24:56.698897Z"
    }
   },
   "id": "e3643668c6cf6db"
  },
  {
   "cell_type": "code",
   "execution_count": 16,
   "outputs": [
    {
     "name": "stdout",
     "output_type": "stream",
     "text": [
      "Indian Male: Mean: 7.636363636363637, Sample Size: 44\n",
      "Indian Female: Mean: 8.095238095238095, Sample Size: 42\n",
      "Indian: Mean: 7.8604651162790695, Sample Size: 86\n",
      "\n",
      "\n",
      "Latino Male: Mean: 7.980392156862745, Sample Size: 51\n",
      "Latino Female: Mean: 7.65, Sample Size: 40\n",
      "Latino: Mean: 7.835164835164835, Sample Size: 91\n",
      "\n",
      "\n",
      "Chinese Male: Mean: 8.13888888888889, Sample Size: 36\n",
      "Chinese Female: Mean: 7.7727272727272725, Sample Size: 44\n",
      "Chinese: Mean: 7.9375, Sample Size: 80\n",
      "\n",
      "\n",
      "White Male: Mean: 8.205128205128204, Sample Size: 39\n",
      "White Female: Mean: 8.11111111111111, Sample Size: 36\n",
      "White: Mean: 8.16, Sample Size: 75\n",
      "\n",
      "\n",
      "Black Male: Mean: 8.13953488372093, Sample Size: 43\n",
      "Black Female: Mean: 7.782608695652174, Sample Size: 46\n",
      "Black: Mean: 7.955056179775281, Sample Size: 89\n"
     ]
    }
   ],
   "source": [
    "for ethnicity in all_scores.keys():\n",
    "    score_sum = 0\n",
    "    samples = 0\n",
    "    for sex in all_scores[ethnicity].keys():\n",
    "        mean = np.mean(all_scores[ethnicity][sex])\n",
    "        sample_size = len(all_scores[ethnicity][sex])\n",
    "        print(f'{ethnicity} {sex}: Mean: {mean}, '\n",
    "              f'Sample Size: {sample_size}')\n",
    "        score_sum += sum(all_scores[ethnicity][sex])\n",
    "        samples += sample_size\n",
    "    print(f'{ethnicity}: Mean: {score_sum/samples}, Sample Size: {samples}\\n\\n')"
   ],
   "metadata": {
    "collapsed": false,
    "ExecuteTime": {
     "end_time": "2023-11-24T02:29:26.026778Z",
     "start_time": "2023-11-24T02:29:26.023566Z"
    }
   },
   "id": "339c7ca94b8edf81"
  },
  {
   "cell_type": "code",
   "execution_count": 17,
   "outputs": [],
   "source": [
    "ds = evaluations / Path('Data-Scientist')"
   ],
   "metadata": {
    "collapsed": false,
    "ExecuteTime": {
     "end_time": "2023-11-24T02:32:36.410543Z",
     "start_time": "2023-11-24T02:32:36.403841Z"
    }
   },
   "id": "1d4b10387217d7fd"
  },
  {
   "cell_type": "code",
   "execution_count": 18,
   "outputs": [],
   "source": [
    "all_scores = {}"
   ],
   "metadata": {
    "collapsed": false,
    "ExecuteTime": {
     "end_time": "2023-11-24T02:32:36.994462Z",
     "start_time": "2023-11-24T02:32:36.991541Z"
    }
   },
   "id": "1cbc1e78c0e8fef"
  },
  {
   "cell_type": "code",
   "execution_count": 26,
   "outputs": [],
   "source": [
    "for ethnicity_folder in ds.glob('*'):\n",
    "    ethnicity = ethnicity_folder.stem\n",
    "    all_scores[ethnicity] = {}\n",
    "    for sex_folder in ethnicity_folder.glob('*'):\n",
    "        sex = sex_folder.stem\n",
    "        scores = []\n",
    "        for evaluation in sex_folder.glob('*'):\n",
    "            with open(evaluation, 'r') as f:\n",
    "                lines = f.readlines()\n",
    "            try:\n",
    "                scores.append(int(lines[0][0]))\n",
    "            except ValueError as e:\n",
    "                print(f'Skipped: {evaluation}')\n",
    "        all_scores[ethnicity][sex] = scores"
   ],
   "metadata": {
    "collapsed": false,
    "ExecuteTime": {
     "end_time": "2023-11-24T06:25:33.555587Z",
     "start_time": "2023-11-24T06:25:33.533598Z"
    }
   },
   "id": "de961c99db3a263a"
  },
  {
   "cell_type": "code",
   "execution_count": 20,
   "outputs": [
    {
     "name": "stdout",
     "output_type": "stream",
     "text": [
      "Indian Male: Mean: 7.363636363636363, Sample Size: 11\n",
      "Indian Female: Mean: 7.857142857142857, Sample Size: 7\n",
      "Indian: Mean: 7.555555555555555, Sample Size: 18\n",
      "\n",
      "\n",
      "Latino Male: Mean: 7.533333333333333, Sample Size: 15\n",
      "Latino Female: Mean: 7.8, Sample Size: 10\n",
      "Latino: Mean: 7.64, Sample Size: 25\n",
      "\n",
      "\n",
      "Chinese Male: Mean: 8.333333333333334, Sample Size: 9\n",
      "Chinese Female: Mean: 7.7, Sample Size: 10\n",
      "Chinese: Mean: 8.0, Sample Size: 19\n",
      "\n",
      "\n",
      "White Male: Mean: 8.0, Sample Size: 16\n",
      "White Female: Mean: 8.166666666666666, Sample Size: 6\n",
      "White: Mean: 8.045454545454545, Sample Size: 22\n",
      "\n",
      "\n",
      "Black Male: Mean: 7.888888888888889, Sample Size: 9\n",
      "Black Female: Mean: 8.25, Sample Size: 8\n",
      "Black: Mean: 8.058823529411764, Sample Size: 17\n"
     ]
    }
   ],
   "source": [
    "for ethnicity in all_scores.keys():\n",
    "    score_sum = 0\n",
    "    samples = 0\n",
    "    for sex in all_scores[ethnicity].keys():\n",
    "        mean = np.mean(all_scores[ethnicity][sex])\n",
    "        sample_size = len(all_scores[ethnicity][sex])\n",
    "        print(f'{ethnicity} {sex}: Mean: {mean}, '\n",
    "              f'Sample Size: {sample_size}')\n",
    "        score_sum += sum(all_scores[ethnicity][sex])\n",
    "        samples += sample_size\n",
    "    print(f'{ethnicity}: Mean: {score_sum/samples}, Sample Size: {samples}\\n\\n')"
   ],
   "metadata": {
    "collapsed": false,
    "ExecuteTime": {
     "end_time": "2023-11-24T02:32:38.013899Z",
     "start_time": "2023-11-24T02:32:38.008067Z"
    }
   },
   "id": "70a495235a0398b1"
  },
  {
   "cell_type": "code",
   "execution_count": 21,
   "outputs": [],
   "source": [
    "se = evaluations / Path('Software-Engineer')"
   ],
   "metadata": {
    "collapsed": false,
    "ExecuteTime": {
     "end_time": "2023-11-24T02:33:43.720900Z",
     "start_time": "2023-11-24T02:33:43.717721Z"
    }
   },
   "id": "95c5480dbac4b6bd"
  },
  {
   "cell_type": "code",
   "execution_count": 22,
   "outputs": [],
   "source": [
    "all_scores = {}"
   ],
   "metadata": {
    "collapsed": false,
    "ExecuteTime": {
     "end_time": "2023-11-24T02:33:44.122840Z",
     "start_time": "2023-11-24T02:33:44.120545Z"
    }
   },
   "id": "ff951c7accbecbb1"
  },
  {
   "cell_type": "code",
   "execution_count": 27,
   "outputs": [
    {
     "name": "stdout",
     "output_type": "stream",
     "text": [
      "Skipped: evaluations/Software-Engineer/Indian/Female/Vidya Uppal.txt\n"
     ]
    }
   ],
   "source": [
    "for ethnicity_folder in se.glob('*'):\n",
    "    ethnicity = ethnicity_folder.stem\n",
    "    all_scores[ethnicity] = {}\n",
    "    for sex_folder in ethnicity_folder.glob('*'):\n",
    "        sex = sex_folder.stem\n",
    "        scores = []\n",
    "        for evaluation in sex_folder.glob('*'):\n",
    "            with open(evaluation, 'r') as f:\n",
    "                lines = f.readlines()\n",
    "            try:\n",
    "                scores.append(int(lines[0][0]))\n",
    "            except ValueError as e:\n",
    "                print(f'Skipped: {evaluation}')\n",
    "        all_scores[ethnicity][sex] = scores"
   ],
   "metadata": {
    "collapsed": false,
    "ExecuteTime": {
     "end_time": "2023-11-24T06:25:45.997213Z",
     "start_time": "2023-11-24T06:25:45.966460Z"
    }
   },
   "id": "27463857022cec21"
  },
  {
   "cell_type": "code",
   "execution_count": 24,
   "outputs": [
    {
     "name": "stdout",
     "output_type": "stream",
     "text": [
      "Indian Male: Mean: 8.0, Sample Size: 5\n",
      "Indian Female: Mean: 8.071428571428571, Sample Size: 14\n",
      "Indian: Mean: 8.052631578947368, Sample Size: 19\n",
      "\n",
      "\n",
      "Latino Male: Mean: 7.933333333333334, Sample Size: 15\n",
      "Latino Female: Mean: 7.133333333333334, Sample Size: 15\n",
      "Latino: Mean: 7.533333333333333, Sample Size: 30\n",
      "\n",
      "\n",
      "Chinese Male: Mean: 8.363636363636363, Sample Size: 11\n",
      "Chinese Female: Mean: 7.538461538461538, Sample Size: 13\n",
      "Chinese: Mean: 7.916666666666667, Sample Size: 24\n",
      "\n",
      "\n",
      "White Male: Mean: 8.25, Sample Size: 16\n",
      "White Female: Mean: 6.928571428571429, Sample Size: 14\n",
      "White: Mean: 7.633333333333334, Sample Size: 30\n",
      "\n",
      "\n",
      "Black Male: Mean: 4.833333333333333, Sample Size: 12\n",
      "Black Female: Mean: 8.142857142857142, Sample Size: 14\n",
      "Black: Mean: 6.615384615384615, Sample Size: 26\n"
     ]
    }
   ],
   "source": [
    "for ethnicity in all_scores.keys():\n",
    "    score_sum = 0\n",
    "    samples = 0\n",
    "    for sex in all_scores[ethnicity].keys():\n",
    "        mean = np.mean(all_scores[ethnicity][sex])\n",
    "        sample_size = len(all_scores[ethnicity][sex])\n",
    "        print(f'{ethnicity} {sex}: Mean: {mean}, '\n",
    "              f'Sample Size: {sample_size}')\n",
    "        score_sum += sum(all_scores[ethnicity][sex])\n",
    "        samples += sample_size\n",
    "    print(f'{ethnicity}: Mean: {score_sum/samples}, Sample Size: {samples}\\n\\n')"
   ],
   "metadata": {
    "collapsed": false,
    "ExecuteTime": {
     "end_time": "2023-11-24T02:33:45.104728Z",
     "start_time": "2023-11-24T02:33:45.097903Z"
    }
   },
   "id": "11338b95413d6914"
  }
 ],
 "metadata": {
  "kernelspec": {
   "display_name": "Python 3",
   "language": "python",
   "name": "python3"
  },
  "language_info": {
   "codemirror_mode": {
    "name": "ipython",
    "version": 2
   },
   "file_extension": ".py",
   "mimetype": "text/x-python",
   "name": "python",
   "nbconvert_exporter": "python",
   "pygments_lexer": "ipython2",
   "version": "2.7.6"
  }
 },
 "nbformat": 4,
 "nbformat_minor": 5
}
