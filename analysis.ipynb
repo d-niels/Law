{
 "cells": [
  {
   "cell_type": "code",
   "execution_count": 1,
   "id": "initial_id",
   "metadata": {
    "collapsed": true,
    "ExecuteTime": {
     "end_time": "2023-11-27T05:53:17.799677Z",
     "start_time": "2023-11-27T05:53:17.736800Z"
    }
   },
   "outputs": [],
   "source": [
    "from pathlib import Path\n",
    "import numpy as np"
   ]
  },
  {
   "cell_type": "code",
   "execution_count": 2,
   "outputs": [],
   "source": [
    "evaluations = Path('evaluations')"
   ],
   "metadata": {
    "collapsed": false,
    "ExecuteTime": {
     "end_time": "2023-11-27T05:53:22.646319Z",
     "start_time": "2023-11-27T05:53:22.638651Z"
    }
   },
   "id": "9d5812e873f83990"
  },
  {
   "cell_type": "code",
   "execution_count": 7,
   "outputs": [],
   "source": [
    "mle = evaluations / Path('Machine-Learning-Engineer')"
   ],
   "metadata": {
    "collapsed": false,
    "ExecuteTime": {
     "end_time": "2023-11-27T06:44:01.770262Z",
     "start_time": "2023-11-27T06:44:01.765113Z"
    }
   },
   "id": "8470e9bf75759a13"
  },
  {
   "cell_type": "code",
   "execution_count": 8,
   "outputs": [],
   "source": [
    "all_scores = {}"
   ],
   "metadata": {
    "collapsed": false,
    "ExecuteTime": {
     "end_time": "2023-11-27T06:44:02.129453Z",
     "start_time": "2023-11-27T06:44:02.126Z"
    }
   },
   "id": "9517d6792724a47a"
  },
  {
   "cell_type": "code",
   "execution_count": 9,
   "outputs": [],
   "source": [
    "for ethnicity_folder in mle.glob('*'):\n",
    "    ethnicity = ethnicity_folder.stem\n",
    "    all_scores[ethnicity] = {}\n",
    "    for sex_folder in ethnicity_folder.glob('*'):\n",
    "        sex = sex_folder.stem\n",
    "        scores = []\n",
    "        for evaluation in sex_folder.glob('*'):\n",
    "            with open(evaluation, 'r') as f:\n",
    "                lines = f.readlines()\n",
    "            try:\n",
    "                scores.append(int(lines[0][0]))\n",
    "            except ValueError as e:\n",
    "                print(f'Skipped: {evaluation}')\n",
    "        all_scores[ethnicity][sex] = scores"
   ],
   "metadata": {
    "collapsed": false,
    "ExecuteTime": {
     "end_time": "2023-11-27T06:44:02.564925Z",
     "start_time": "2023-11-27T06:44:02.467674Z"
    }
   },
   "id": "e3643668c6cf6db"
  },
  {
   "cell_type": "code",
   "execution_count": 10,
   "outputs": [
    {
     "name": "stdout",
     "output_type": "stream",
     "text": [
      "Indian Male: Mean: 7.090909090909091, Sample Size: 44\n",
      "Indian Female: Mean: 7.704545454545454, Sample Size: 44\n",
      "Indian: Mean: 7.3977272727272725, Sample Size: 88\n",
      "\n",
      "\n",
      "Latino Male: Mean: 7.490196078431373, Sample Size: 51\n",
      "Latino Female: Mean: 7.175, Sample Size: 40\n",
      "Latino: Mean: 7.351648351648351, Sample Size: 91\n",
      "\n",
      "\n",
      "Chinese Male: Mean: 7.638888888888889, Sample Size: 36\n",
      "Chinese Female: Mean: 7.5, Sample Size: 44\n",
      "Chinese: Mean: 7.5625, Sample Size: 80\n",
      "\n",
      "\n",
      "White Male: Mean: 8.125, Sample Size: 40\n",
      "White Female: Mean: 7.666666666666667, Sample Size: 36\n",
      "White: Mean: 7.907894736842105, Sample Size: 76\n",
      "\n",
      "\n",
      "Black Male: Mean: 7.767441860465116, Sample Size: 43\n",
      "Black Female: Mean: 7.543478260869565, Sample Size: 46\n",
      "Black: Mean: 7.651685393258427, Sample Size: 89\n",
      "\n"
     ]
    }
   ],
   "source": [
    "for ethnicity in all_scores.keys():\n",
    "    score_sum = 0\n",
    "    samples = 0\n",
    "    for sex in all_scores[ethnicity].keys():\n",
    "        mean = np.mean(all_scores[ethnicity][sex])\n",
    "        sample_size = len(all_scores[ethnicity][sex])\n",
    "        print(f'{ethnicity} {sex}: Mean: {mean}, '\n",
    "              f'Sample Size: {sample_size}')\n",
    "        score_sum += sum(all_scores[ethnicity][sex])\n",
    "        samples += sample_size\n",
    "    print(f'{ethnicity}: Mean: {score_sum/samples}, Sample Size: {samples}\\n\\n')"
   ],
   "metadata": {
    "collapsed": false,
    "ExecuteTime": {
     "end_time": "2023-11-27T06:44:03.026026Z",
     "start_time": "2023-11-27T06:44:03.023784Z"
    }
   },
   "id": "339c7ca94b8edf81"
  },
  {
   "cell_type": "code",
   "execution_count": 17,
   "outputs": [],
   "source": [
    "ds = evaluations / Path('Data-Scientist')"
   ],
   "metadata": {
    "collapsed": false,
    "ExecuteTime": {
     "end_time": "2023-11-24T02:32:36.410543Z",
     "start_time": "2023-11-24T02:32:36.403841Z"
    }
   },
   "id": "1d4b10387217d7fd"
  },
  {
   "cell_type": "code",
   "execution_count": 18,
   "outputs": [],
   "source": [
    "all_scores = {}"
   ],
   "metadata": {
    "collapsed": false,
    "ExecuteTime": {
     "end_time": "2023-11-24T02:32:36.994462Z",
     "start_time": "2023-11-24T02:32:36.991541Z"
    }
   },
   "id": "1cbc1e78c0e8fef"
  },
  {
   "cell_type": "code",
   "execution_count": 26,
   "outputs": [],
   "source": [
    "for ethnicity_folder in ds.glob('*'):\n",
    "    ethnicity = ethnicity_folder.stem\n",
    "    all_scores[ethnicity] = {}\n",
    "    for sex_folder in ethnicity_folder.glob('*'):\n",
    "        sex = sex_folder.stem\n",
    "        scores = []\n",
    "        for evaluation in sex_folder.glob('*'):\n",
    "            with open(evaluation, 'r') as f:\n",
    "                lines = f.readlines()\n",
    "            try:\n",
    "                scores.append(int(lines[0][0]))\n",
    "            except ValueError as e:\n",
    "                print(f'Skipped: {evaluation}')\n",
    "        all_scores[ethnicity][sex] = scores"
   ],
   "metadata": {
    "collapsed": false,
    "ExecuteTime": {
     "end_time": "2023-11-24T06:25:33.555587Z",
     "start_time": "2023-11-24T06:25:33.533598Z"
    }
   },
   "id": "de961c99db3a263a"
  },
  {
   "cell_type": "code",
   "execution_count": 20,
   "outputs": [
    {
     "name": "stdout",
     "output_type": "stream",
     "text": [
      "Indian Male: Mean: 7.363636363636363, Sample Size: 11\n",
      "Indian Female: Mean: 7.857142857142857, Sample Size: 7\n",
      "Indian: Mean: 7.555555555555555, Sample Size: 18\n",
      "\n",
      "\n",
      "Latino Male: Mean: 7.533333333333333, Sample Size: 15\n",
      "Latino Female: Mean: 7.8, Sample Size: 10\n",
      "Latino: Mean: 7.64, Sample Size: 25\n",
      "\n",
      "\n",
      "Chinese Male: Mean: 8.333333333333334, Sample Size: 9\n",
      "Chinese Female: Mean: 7.7, Sample Size: 10\n",
      "Chinese: Mean: 8.0, Sample Size: 19\n",
      "\n",
      "\n",
      "White Male: Mean: 8.0, Sample Size: 16\n",
      "White Female: Mean: 8.166666666666666, Sample Size: 6\n",
      "White: Mean: 8.045454545454545, Sample Size: 22\n",
      "\n",
      "\n",
      "Black Male: Mean: 7.888888888888889, Sample Size: 9\n",
      "Black Female: Mean: 8.25, Sample Size: 8\n",
      "Black: Mean: 8.058823529411764, Sample Size: 17\n"
     ]
    }
   ],
   "source": [
    "for ethnicity in all_scores.keys():\n",
    "    score_sum = 0\n",
    "    samples = 0\n",
    "    for sex in all_scores[ethnicity].keys():\n",
    "        mean = np.mean(all_scores[ethnicity][sex])\n",
    "        sample_size = len(all_scores[ethnicity][sex])\n",
    "        print(f'{ethnicity} {sex}: Mean: {mean}, '\n",
    "              f'Sample Size: {sample_size}')\n",
    "        score_sum += sum(all_scores[ethnicity][sex])\n",
    "        samples += sample_size\n",
    "    print(f'{ethnicity}: Mean: {score_sum/samples}, Sample Size: {samples}\\n\\n')"
   ],
   "metadata": {
    "collapsed": false,
    "ExecuteTime": {
     "end_time": "2023-11-24T02:32:38.013899Z",
     "start_time": "2023-11-24T02:32:38.008067Z"
    }
   },
   "id": "70a495235a0398b1"
  },
  {
   "cell_type": "code",
   "execution_count": 3,
   "outputs": [],
   "source": [
    "se = evaluations / Path('Software-Engineer')"
   ],
   "metadata": {
    "collapsed": false,
    "ExecuteTime": {
     "end_time": "2023-11-27T05:53:32.771915Z",
     "start_time": "2023-11-27T05:53:32.766711Z"
    }
   },
   "id": "95c5480dbac4b6bd"
  },
  {
   "cell_type": "code",
   "execution_count": 4,
   "outputs": [],
   "source": [
    "all_scores = {}"
   ],
   "metadata": {
    "collapsed": false,
    "ExecuteTime": {
     "end_time": "2023-11-27T05:53:34.033597Z",
     "start_time": "2023-11-27T05:53:34.029513Z"
    }
   },
   "id": "ff951c7accbecbb1"
  },
  {
   "cell_type": "code",
   "execution_count": 5,
   "outputs": [
    {
     "name": "stdout",
     "output_type": "stream",
     "text": [
      "Skipped: eval1/Software-Engineer/Indian/Female/Zenia Gavaskar.txt\n",
      "Skipped: eval1/Software-Engineer/Latino/Male/Ysmael Zarate.txt\n",
      "Skipped: eval1/Software-Engineer/Latino/Male/Nacho Zarate.txt\n",
      "Skipped: eval1/Software-Engineer/Chinese/Male/Gao Yu.txt\n",
      "Skipped: eval1/Software-Engineer/White/Male/Henry Baker.txt\n",
      "Skipped: eval1/Software-Engineer/White/Male/Zachary Jenkins.txt\n",
      "Skipped: eval1/Software-Engineer/White/Female/Ursula Anderson.txt\n",
      "Skipped: eval1/Software-Engineer/Black/Male/Jalen Davis.txt\n",
      "Skipped: eval1/Software-Engineer/Black/Male/Evan Allen.txt\n"
     ]
    }
   ],
   "source": [
    "for ethnicity_folder in se.glob('*'):\n",
    "    ethnicity = ethnicity_folder.stem\n",
    "    all_scores[ethnicity] = {}\n",
    "    for sex_folder in ethnicity_folder.glob('*'):\n",
    "        sex = sex_folder.stem\n",
    "        scores = []\n",
    "        for evaluation in sex_folder.glob('*'):\n",
    "            with open(evaluation, 'r') as f:\n",
    "                lines = f.readlines()\n",
    "            try:\n",
    "                scores.append(int(lines[0][0]))\n",
    "            except ValueError as e:\n",
    "                print(f'Skipped: {evaluation}')\n",
    "        all_scores[ethnicity][sex] = scores"
   ],
   "metadata": {
    "collapsed": false,
    "ExecuteTime": {
     "end_time": "2023-11-27T05:53:35.011065Z",
     "start_time": "2023-11-27T05:53:34.837586Z"
    }
   },
   "id": "27463857022cec21"
  },
  {
   "cell_type": "code",
   "execution_count": 6,
   "outputs": [
    {
     "name": "stdout",
     "output_type": "stream",
     "text": [
      "Indian Male: Mean: 7.09375, Sample Size: 64\n",
      "Indian Female: Mean: 7.319148936170213, Sample Size: 94\n",
      "Indian: Mean: 7.227848101265823, Sample Size: 158\n",
      "\n",
      "\n",
      "Latino Male: Mean: 6.865671641791045, Sample Size: 67\n",
      "Latino Female: Mean: 6.924050632911392, Sample Size: 79\n",
      "Latino: Mean: 6.897260273972603, Sample Size: 146\n",
      "\n",
      "\n",
      "Chinese Male: Mean: 7.242857142857143, Sample Size: 70\n",
      "Chinese Female: Mean: 7.1923076923076925, Sample Size: 78\n",
      "Chinese: Mean: 7.216216216216216, Sample Size: 148\n",
      "\n",
      "\n",
      "White Male: Mean: 6.855421686746988, Sample Size: 83\n",
      "White Female: Mean: 7.704225352112676, Sample Size: 71\n",
      "White: Mean: 7.246753246753247, Sample Size: 154\n",
      "\n",
      "\n",
      "Black Male: Mean: 7.0, Sample Size: 88\n",
      "Black Female: Mean: 7.409090909090909, Sample Size: 88\n",
      "Black: Mean: 7.204545454545454, Sample Size: 176\n",
      "\n"
     ]
    }
   ],
   "source": [
    "for ethnicity in all_scores.keys():\n",
    "    score_sum = 0\n",
    "    samples = 0\n",
    "    for sex in all_scores[ethnicity].keys():\n",
    "        mean = np.mean(all_scores[ethnicity][sex])\n",
    "        sample_size = len(all_scores[ethnicity][sex])\n",
    "        print(f'{ethnicity} {sex}: Mean: {mean}, '\n",
    "              f'Sample Size: {sample_size}')\n",
    "        score_sum += sum(all_scores[ethnicity][sex])\n",
    "        samples += sample_size\n",
    "    print(f'{ethnicity}: Mean: {score_sum/samples}, Sample Size: {samples}\\n\\n')"
   ],
   "metadata": {
    "collapsed": false,
    "ExecuteTime": {
     "end_time": "2023-11-27T05:53:36.399026Z",
     "start_time": "2023-11-27T05:53:36.384738Z"
    }
   },
   "id": "11338b95413d6914"
  }
 ],
 "metadata": {
  "kernelspec": {
   "display_name": "Python 3",
   "language": "python",
   "name": "python3"
  },
  "language_info": {
   "codemirror_mode": {
    "name": "ipython",
    "version": 2
   },
   "file_extension": ".py",
   "mimetype": "text/x-python",
   "name": "python",
   "nbconvert_exporter": "python",
   "pygments_lexer": "ipython2",
   "version": "2.7.6"
  }
 },
 "nbformat": 4,
 "nbformat_minor": 5
}
